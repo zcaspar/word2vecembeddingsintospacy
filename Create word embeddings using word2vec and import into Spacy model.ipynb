{
 "cells": [
  {
   "cell_type": "code",
   "execution_count": null,
   "metadata": {
    "collapsed": true
   },
   "outputs": [],
   "source": [
    "import gensim, logging, word2vec\n",
    "logging.basicConfig(format='%(asctime)s : %(levelname)s : %(message)s', level=logging.INFO)"
   ]
  },
  {
   "cell_type": "code",
   "execution_count": null,
   "metadata": {},
   "outputs": [],
   "source": [
    "# engineering_skills should be of the format:\n",
    "\n",
    "engineering_skills = [['text'],\n",
    " ['band', 'business', 'need', 'world', 'leader', 'supply', 'blood', 'tissue', 'organ'],\n",
    " ['title', 'manager', 'description', 'build', 'contractor']]\n",
    "\n",
    "# train word2vec on the sentences\n",
    "model = gensim.models.Word2Vec(engineering_skills,min_count=1,negative=5,alpha=0.02,size=100,iter=2)"
   ]
  },
  {
   "cell_type": "code",
   "execution_count": 28,
   "metadata": {},
   "outputs": [
    {
     "data": {
      "text/plain": [
       "array([ 4.60653007e-03, -1.43054337e-03,  3.22199217e-03,  4.76513850e-03,\n",
       "        1.09733630e-03, -3.32580670e-03, -4.69118636e-03,  2.08600913e-03,\n",
       "       -2.27312627e-03,  1.69041276e-03,  4.96509904e-03,  1.14212315e-04,\n",
       "        1.19042944e-03, -1.25848479e-03, -3.67215718e-03, -2.92348489e-03,\n",
       "        1.08782074e-03, -1.95265899e-03, -4.36329143e-03, -1.19469489e-03,\n",
       "        1.48437778e-03,  4.65665525e-03,  4.52919025e-03,  3.67153296e-03,\n",
       "        4.32997942e-03,  2.05133762e-03,  4.32305411e-03,  2.05994816e-03,\n",
       "       -2.84416368e-04, -1.14211184e-03, -9.46865999e-04,  1.10461214e-03,\n",
       "        2.73947790e-03, -1.94312981e-03, -1.88227964e-03,  6.96607982e-04,\n",
       "       -4.67649661e-03,  2.22115312e-03, -1.36114180e-03, -4.06996161e-03,\n",
       "       -1.84347585e-03,  1.10251678e-03,  1.57183001e-03, -3.38894106e-03,\n",
       "        2.35848268e-03,  1.93857559e-04,  3.96410562e-03,  1.92487775e-03,\n",
       "        3.65561573e-03,  4.84676193e-03, -1.77153118e-03,  4.32266435e-03,\n",
       "       -8.83379194e-04, -1.49624632e-03,  4.10727318e-03, -8.44163878e-04,\n",
       "        3.00158956e-03, -7.96181615e-04, -4.33491357e-03,  6.97421085e-04,\n",
       "        4.84871026e-03, -1.69067644e-03, -2.87972810e-03, -1.80102175e-03,\n",
       "       -1.55463256e-03, -3.80015536e-03,  1.97296473e-03, -3.22524318e-03,\n",
       "       -3.34723620e-03,  4.82430961e-03, -4.09497600e-03, -2.31840368e-03,\n",
       "       -2.67161243e-03, -3.67133436e-03, -5.88274212e-04, -3.71626276e-03,\n",
       "       -1.11966999e-03,  1.87844038e-03, -1.77861319e-03, -1.14918384e-03,\n",
       "        2.67310278e-03,  1.59160316e-03, -4.37624753e-03, -2.14157207e-03,\n",
       "       -9.55422001e-06, -4.25239047e-03, -2.69419048e-04,  3.02464329e-03,\n",
       "       -3.44429258e-03,  2.51355488e-03,  8.00378330e-04,  4.69249906e-03,\n",
       "        4.07215487e-03,  4.54802485e-03,  2.32459593e-06,  2.00512470e-03,\n",
       "        2.91240821e-03,  4.20145364e-03,  1.51646172e-03,  3.92267061e-03],\n",
       "      dtype=float32)"
      ]
     },
     "execution_count": 28,
     "metadata": {},
     "output_type": "execute_result"
    }
   ],
   "source": [
    "# Return the vector of a particular word\n",
    "model.wv[\"need\"]"
   ]
  },
  {
   "cell_type": "code",
   "execution_count": 5,
   "metadata": {},
   "outputs": [
    {
     "data": {
      "text/plain": [
       "0.10269171"
      ]
     },
     "execution_count": 5,
     "metadata": {},
     "output_type": "execute_result"
    }
   ],
   "source": [
    "# Compare similarity between two words\n",
    "model.wv.similarity('need', 'world')"
   ]
  },
  {
   "cell_type": "code",
   "execution_count": 20,
   "metadata": {},
   "outputs": [
    {
     "name": "stderr",
     "output_type": "stream",
     "text": [
      "2020-06-23 07:19:43,681 : INFO : storing 15x100 projection weights into ~/Coding/datascience/nlp_dissertation/vectormodel/engineering_jobs3.txt\n"
     ]
    }
   ],
   "source": [
    "# Save the word embeddings\n",
    "model.wv.save_word2vec_format(\"~/Coding/datascience/nlp_dissertation/vectormodel/engineering_jobs3.txt\")"
   ]
  },
  {
   "cell_type": "code",
   "execution_count": 21,
   "metadata": {},
   "outputs": [],
   "source": [
    "# gzip the vector file\n",
    "!gzip ~/Coding/datascience/nlp_dissertation/vectormodel/engineering_jobs3.txt"
   ]
  },
  {
   "cell_type": "code",
   "execution_count": 22,
   "metadata": {},
   "outputs": [
    {
     "name": "stdout",
     "output_type": "stream",
     "text": [
      "\u001b[2K\u001b[38;5;2m✔ Successfully created model\u001b[0m\n",
      "15it [00:00, 13803.11it/s]me/caspar/Coding/datascience/nlp_dissertation/vectormodel/engineering_jobs3.txt.gz\n",
      "\u001b[2K\u001b[38;5;2m✔ Loaded vectors from\n",
      "/home/caspar/Coding/datascience/nlp_dissertation/vectormodel/engineering_jobs3.txt.gz\u001b[0m\n",
      "\u001b[38;5;2m✔ Sucessfully compiled vocab\u001b[0m\n",
      "492 entries, 15 vectors\n"
     ]
    }
   ],
   "source": [
    "# Create spacy model with my vectors in the first path location - it will be in the form of a folder\n",
    "!python -m spacy init-model en ~/Coding/datascience/nlp_dissertation/vectormodel/spacy.word2vec.model --vectors-loc ~/Coding/datascience/nlp_dissertation/vectormodel/engineering_jobs3.txt.gz"
   ]
  },
  {
   "cell_type": "code",
   "execution_count": 49,
   "metadata": {
    "collapsed": true
   },
   "outputs": [],
   "source": [
    "# Load the vectors into spacy\n",
    "# this may need to be run beforehand: pip install spacy && python -m spacy download en\n",
    "# import spacy\n",
    "# Below I use the own Spacy model I have created\n",
    "# nlp = spacy.load('skills-model',vectors='engineering_jobs3.txt')\n",
    "\n",
    "# An alternative would be to use Spacy's large model\n",
    "nlp = spacy.load('en_core_web_lg',vectors='engineering_jobs3.txt')"
   ]
  },
  {
   "cell_type": "code",
   "execution_count": 50,
   "metadata": {
    "collapsed": true
   },
   "outputs": [],
   "source": [
    "doc = nlp(\"Need to use of new embeddings with the need to provide a couple of words\")"
   ]
  },
  {
   "cell_type": "code",
   "execution_count": 51,
   "metadata": {},
   "outputs": [
    {
     "name": "stdout",
     "output_type": "stream",
     "text": [
      "0.9999999641747307\n",
      "0.6650817046784017\n",
      "0.6705115021231429\n",
      "0.3564080872490665\n",
      "0.4762367333785037\n",
      "-0.09471527780048829\n",
      "0.4720352936625735\n",
      "0.47542204960864\n",
      "1.0\n",
      "0.6650817046784017\n",
      "0.6502462022867367\n",
      "0.47245453219894684\n",
      "0.4420237602778313\n",
      "0.3564080872490665\n",
      "0.3594410055237657\n"
     ]
    }
   ],
   "source": [
    "# See how similar all words in doc are to a predefined word\n",
    "for token in doc:\n",
    "    print(token.similarity(nlp(\"need\")))"
   ]
  },
  {
   "cell_type": "code",
   "execution_count": null,
   "metadata": {
    "collapsed": true
   },
   "outputs": [],
   "source": []
  }
 ],
 "metadata": {
  "kernelspec": {
   "display_name": "Python 3",
   "language": "python",
   "name": "python3"
  },
  "language_info": {
   "codemirror_mode": {
    "name": "ipython",
    "version": 3
   },
   "file_extension": ".py",
   "mimetype": "text/x-python",
   "name": "python",
   "nbconvert_exporter": "python",
   "pygments_lexer": "ipython3",
   "version": "3.6.3"
  }
 },
 "nbformat": 4,
 "nbformat_minor": 2
}
